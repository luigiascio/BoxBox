{
 "cells": [
  {
   "cell_type": "markdown",
   "id": "0b136be7-81c6-4c11-92eb-c5fbbac79b06",
   "metadata": {
    "tags": []
   },
   "source": [
    "# BOX BOX"
   ]
  },
  {
   "cell_type": "markdown",
   "id": "1acc58e4-59f1-452d-bfb7-ad533233c0ec",
   "metadata": {},
   "source": [
    "## Description:\n",
    "In a world full of data there are also motorsports that make use of it.\n",
    "In this notebook it's analized one of the most important aspect of Formula 1, the pit stops.\n",
    "Sometimes it is difficult for F1 teams to decide which strategy is best, but they can use the past to make the right choice.  \n",
    "\n",
    "Upload in your DBMS f1db.db.  \n",
    "Run the code below that contains the libraries, then run the connection code. After that you can run all the notebook and use the buttons.\n",
    "  \n",
    "  \n",
    "Discaimer: it was created for practice using mysql, python and libraries like pandas, matplotlib and ipywidgets. \n",
    "The mysql format is not the best for this analisis. You can use Fastf1's api which contains more information (like tyres' compound)."
   ]
  },
  {
   "cell_type": "code",
   "execution_count": 1,
   "id": "7fcd9854-da4b-4b63-aa8d-5fef2bd6e3b6",
   "metadata": {
    "jupyter": {
     "source_hidden": true
    },
    "tags": []
   },
   "outputs": [],
   "source": [
    "import mysql.connector\n",
    "import pandas as pd\n",
    "import matplotlib.pyplot as plt\n",
    "import ipywidgets as widgets"
   ]
  },
  {
   "cell_type": "markdown",
   "id": "ede36133-2292-4d43-b4cb-857298f3e21c",
   "metadata": {},
   "source": [
    "##"
   ]
  },
  {
   "cell_type": "markdown",
   "id": "20c81d62-df64-462b-8e88-0b93a52504d7",
   "metadata": {},
   "source": [
    "## Connection\n",
    "Fist of all it uses mySQL, then connect to the server where f1db.db. is uploaded.  \n",
    "Enter all server data and the database name and presso connect."
   ]
  },
  {
   "cell_type": "code",
   "execution_count": 2,
   "id": "c5160f22-95b2-4c2e-8e7c-c8ea5756eb4b",
   "metadata": {
    "jupyter": {
     "source_hidden": true
    },
    "tags": []
   },
   "outputs": [
    {
     "data": {
      "application/vnd.jupyter.widget-view+json": {
       "model_id": "080287fa94f84c02921fdb4bfd3775fd",
       "version_major": 2,
       "version_minor": 0
      },
      "text/plain": [
       "Text(value='', description='Host:', placeholder='Insert host')"
      ]
     },
     "metadata": {},
     "output_type": "display_data"
    },
    {
     "data": {
      "application/vnd.jupyter.widget-view+json": {
       "model_id": "18d5bbe681664132b799eced60ec4429",
       "version_major": 2,
       "version_minor": 0
      },
      "text/plain": [
       "Text(value='', description='User', placeholder='Insert user')"
      ]
     },
     "metadata": {},
     "output_type": "display_data"
    },
    {
     "data": {
      "application/vnd.jupyter.widget-view+json": {
       "model_id": "ec8010822c0043469a781419c75518e6",
       "version_major": 2,
       "version_minor": 0
      },
      "text/plain": [
       "Text(value='', description='Password:', placeholder='Insert password')"
      ]
     },
     "metadata": {},
     "output_type": "display_data"
    },
    {
     "data": {
      "application/vnd.jupyter.widget-view+json": {
       "model_id": "5ecc484a6a234138abeefb2af6b4aacb",
       "version_major": 2,
       "version_minor": 0
      },
      "text/plain": [
       "Text(value='', description='Port:', placeholder='Insert port')"
      ]
     },
     "metadata": {},
     "output_type": "display_data"
    },
    {
     "data": {
      "application/vnd.jupyter.widget-view+json": {
       "model_id": "5a26cbc798a2458da1c41d50e4117563",
       "version_major": 2,
       "version_minor": 0
      },
      "text/plain": [
       "Text(value='', description='Database name:', placeholder='Insert database name', style=DescriptionStyle(descri…"
      ]
     },
     "metadata": {},
     "output_type": "display_data"
    }
   ],
   "source": [
    "txtHost=widgets.Text(\n",
    "    placeholder ='Insert host',\n",
    "    description ='Host:',\n",
    "    disabled = False)\n",
    "\n",
    "txtUser=widgets.Text(\n",
    "    placeholder='Insert user',\n",
    "    description='User',\n",
    "    disabled = False)\n",
    "\n",
    "txtPassword=widgets.Text(\n",
    "    placeholder ='Insert password',\n",
    "    description ='Password:',\n",
    "    disabled=False)\n",
    "\n",
    "txtPort=widgets.Text(\n",
    "    placeholder ='Insert port',\n",
    "    description ='Port:',\n",
    "    disabled=False)\n",
    "\n",
    "s={'description_width':'initial'}\n",
    "\n",
    "txtDatabase=widgets.Text(\n",
    "    style=s,\n",
    "    placeholder ='Insert database name',\n",
    "    description ='Database name:',\n",
    "    disabled=False)\n",
    "\n",
    "display(txtHost)\n",
    "display(txtUser)\n",
    "display(txtPassword)\n",
    "display(txtPort)\n",
    "display(txtDatabase)"
   ]
  },
  {
   "cell_type": "code",
   "execution_count": 3,
   "id": "299510ed-6164-465e-bacb-4c3b39f410b1",
   "metadata": {
    "jupyter": {
     "source_hidden": true
    },
    "tags": []
   },
   "outputs": [
    {
     "data": {
      "application/vnd.jupyter.widget-view+json": {
       "model_id": "c8a6aba17f5c469d902638be4fc9210f",
       "version_major": 2,
       "version_minor": 0
      },
      "text/plain": [
       "Button(description='Connect', style=ButtonStyle(), tooltip='Connect')"
      ]
     },
     "metadata": {},
     "output_type": "display_data"
    },
    {
     "data": {
      "application/vnd.jupyter.widget-view+json": {
       "model_id": "9b82323d42174ab9acb5959593fc962e",
       "version_major": 2,
       "version_minor": 0
      },
      "text/plain": [
       "Output()"
      ]
     },
     "metadata": {},
     "output_type": "display_data"
    }
   ],
   "source": [
    "outputconn=widgets.Output()\n",
    "\n",
    "def connect(b):\n",
    "    global mydb\n",
    "    with outputconn:\n",
    "        outputconn.clear_output()\n",
    "        Host=txtHost.value\n",
    "        User=txtUser.value\n",
    "        Password=txtPassword.value\n",
    "        Port=txtPort.value\n",
    "        Database=txtDatabase.value\n",
    "\n",
    "        try:\n",
    "            mydb = mysql.connector.connect(\n",
    "                host=Host,\n",
    "                user=User,\n",
    "                password=Password,\n",
    "                port=Port,\n",
    "                database=Database\n",
    "            )\n",
    "            print('Connection successful!')\n",
    "            \n",
    "        except mysql.connector.Error as err:\n",
    "            print(f\"Connection error: {err}\")\n",
    "\n",
    "buttonconn = widgets.Button(\n",
    "    description='Connect',\n",
    "    disabled=False,\n",
    "    button_style='', # 'success', 'info', 'warning', 'danger' or ''\n",
    "    tooltip='Connect' # (FontAwesome names without the `fa-` prefix)\n",
    ")\n",
    "\n",
    "buttonconn.on_click(connect)\n",
    "display(buttonconn)\n",
    "display(outputconn)"
   ]
  },
  {
   "cell_type": "markdown",
   "id": "552b018c-a528-4649-8809-63c043a2c7e3",
   "metadata": {},
   "source": [
    "###"
   ]
  },
  {
   "cell_type": "markdown",
   "id": "3116a351-fee9-43f9-9535-2ad17da1a90b",
   "metadata": {
    "tags": []
   },
   "source": [
    "## Average number of pit stops for Grand Prix\n",
    "Now you can run all code below.  \n",
    "This calculate the average number of pit stops for Grand Prix. This code uses mydb.cursor to create a cursor to execute query on database like mysql, then it creates a dataframe using pandas where the columns are Raceid, Stop (the number of a specific pit stop), Lap (in which lap the pit stop is made), DriverRef, GrandPrix.  \n",
    "After that it calculate the average and print the result.   \n",
    "Choose the Grand Prix you want to analize from the list."
   ]
  },
  {
   "cell_type": "code",
   "execution_count": 4,
   "id": "5efbe8c0-b823-4d4a-8a70-64cd9036a386",
   "metadata": {
    "jupyter": {
     "source_hidden": true
    },
    "tags": []
   },
   "outputs": [
    {
     "data": {
      "application/vnd.jupyter.widget-view+json": {
       "model_id": "c930a881f9384ef2bf78c552743491a0",
       "version_major": 2,
       "version_minor": 0
      },
      "text/plain": [
       "Dropdown(description='GrandPrix:', options=('70th Anniversary Grand Prix', 'Abu Dhabi Grand Prix', 'Australian…"
      ]
     },
     "metadata": {},
     "output_type": "display_data"
    }
   ],
   "source": [
    "mgiricursor = mydb.cursor()\n",
    "\n",
    "mgiricursor.execute(\n",
    "            'SELECT P.raceId, P.stop, P.lap, D.driverRef, R.name FROM (((pitstops P JOIN drivers D ON P.driverId = D.driverId) JOIN races R ON P.raceId = R.raceId) JOIN circuits C ON R.circuitId = C.circuitId) JOIN results RE ON RE.raceId = R.raceId AND RE.driverId = D.driverId WHERE (R.year BETWEEN 2011 AND 2022) ORDER BY P.raceId, P.stop'\n",
    "        )\n",
    "\n",
    "datalista = mgiricursor.fetchall()\n",
    "\n",
    "DF = pd.DataFrame(datalista, columns=['Raceid', 'Stop', 'Lap', 'DriverRef', 'GrandPrix'])\n",
    "\n",
    "#lista GP\n",
    "GPcursor=mydb.cursor()\n",
    "GPcursor.execute('SELECT distinct name FROM f1.races where year between 2011 and 2022 order by name')\n",
    "\n",
    "lista_GP=GPcursor.fetchall()\n",
    "lista_GP=pd.DataFrame(lista_GP, columns=['GP'])\n",
    "\n",
    "GrandP=widgets.Dropdown(\n",
    "    options=lista_GP['GP'],\n",
    "    description='GrandPrix:',\n",
    "    disabled=False\n",
    ")\n",
    "\n",
    "display(GrandP)\n"
   ]
  },
  {
   "cell_type": "code",
   "execution_count": 5,
   "id": "614b0d99-a006-40dc-89ea-255366b763ad",
   "metadata": {
    "jupyter": {
     "source_hidden": true
    },
    "tags": []
   },
   "outputs": [
    {
     "data": {
      "application/vnd.jupyter.widget-view+json": {
       "model_id": "b53dd1417e0c4dc192727c7c4a671474",
       "version_major": 2,
       "version_minor": 0
      },
      "text/plain": [
       "Button(description='Calculate', icon='check', style=ButtonStyle(), tooltip='Calculate')"
      ]
     },
     "metadata": {},
     "output_type": "display_data"
    },
    {
     "data": {
      "application/vnd.jupyter.widget-view+json": {
       "model_id": "5a0db212214149158b3b27934a965463",
       "version_major": 2,
       "version_minor": 0
      },
      "text/plain": [
       "Output()"
      ]
     },
     "metadata": {},
     "output_type": "display_data"
    }
   ],
   "source": [
    "output = widgets.Output()\n",
    "\n",
    "def m_stop(b):\n",
    "    with output:\n",
    "        output.clear_output()\n",
    "        mediastop = DF.groupby(['GrandPrix'])[['Stop']].mean()\n",
    "        mediastop = mediastop.round(1)\n",
    "        nameG=GrandP.value\n",
    "        circuito = mediastop.loc[[nameG]]\n",
    "        display(circuito)\n",
    "        \n",
    "button = widgets.Button(\n",
    "    description='Calculate',\n",
    "    disabled=False,\n",
    "    button_style='', # 'success', 'info', 'warning', 'danger' or ''\n",
    "    tooltip='Calculate',\n",
    "    icon='check' # (FontAwesome names without the `fa-` prefix)\n",
    ")\n",
    "\n",
    "button.on_click(m_stop)\n",
    "\n",
    "display(button)\n",
    "display(output)"
   ]
  },
  {
   "cell_type": "markdown",
   "id": "11ba6e04-6217-43ee-a39f-a33aac238dec",
   "metadata": {},
   "source": [
    "###"
   ]
  },
  {
   "cell_type": "markdown",
   "id": "933844ba-5571-40d5-b85c-4ee844b02b79",
   "metadata": {},
   "source": [
    "## Laps to BOXBOX\n",
    "Having seen that most GPs have fewer than 2 pit stops on average, this code only takes drivers who made fewer than 2 pit stops in a race, then excludes drivers who had problems and had to pit multiple times and calculates the average lap when pit stops are made.\n",
    "Select the GP you want to print and press calculate."
   ]
  },
  {
   "cell_type": "code",
   "execution_count": 6,
   "id": "ba1e890f-8fd5-40ab-b073-de8b84494cc6",
   "metadata": {
    "jupyter": {
     "source_hidden": true
    },
    "tags": []
   },
   "outputs": [
    {
     "data": {
      "application/vnd.jupyter.widget-view+json": {
       "model_id": "d3cc006ab9e44554b3d164492f493e23",
       "version_major": 2,
       "version_minor": 0
      },
      "text/plain": [
       "Dropdown(description='GrandPrix:', options=('70th Anniversary Grand Prix', 'Abu Dhabi Grand Prix', 'Australian…"
      ]
     },
     "metadata": {},
     "output_type": "display_data"
    }
   ],
   "source": [
    "LtB = mydb.cursor()\n",
    "\n",
    "#media giro in cui si fanno i pit stop\n",
    "LtB.execute(\n",
    "    'SELECT P.raceId, P.stop, P.lap, D.driverRef, R.name FROM ((pitstops P JOIN drivers D ON P.driverId = D.driverId) JOIN races R ON P.raceId = R.raceId) join circuits C on R.circuitId=C.circuitId where R.year between 2011 and 2022 order by R.raceId, P.stop'\n",
    "    )\n",
    "\n",
    "ltb = LtB.fetchall()\n",
    "\n",
    "DFltb = pd.DataFrame(ltb, columns=['Raceid', 'Stop', 'Lap', 'DriverRef', 'GrandPrix'])\n",
    "\n",
    "DFltb = DFltb.groupby(['Raceid', 'DriverRef']).filter(lambda x: (x['Stop'].count() <= 2).all())\n",
    "\n",
    "mean_ltb = DFltb.groupby(['GrandPrix', 'Stop'])[['Lap']].mean()\n",
    "mean_ltb = mean_ltb.round(1)\n",
    "\n",
    "GPltb=widgets.Dropdown(\n",
    "    options=lista_GP['GP'],\n",
    "    description='GrandPrix:',\n",
    "    disabled=False\n",
    ")\n",
    "\n",
    "display(GPltb)\n",
    "\n"
   ]
  },
  {
   "cell_type": "code",
   "execution_count": 7,
   "id": "0e7839f3-cbfe-4c53-897d-45aa9eff4914",
   "metadata": {
    "jupyter": {
     "source_hidden": true
    },
    "scrolled": true,
    "tags": []
   },
   "outputs": [
    {
     "data": {
      "application/vnd.jupyter.widget-view+json": {
       "model_id": "4616b9344fc045c9ada80c29c210d98f",
       "version_major": 2,
       "version_minor": 0
      },
      "text/plain": [
       "Button(description='Calculate', icon='check', style=ButtonStyle(), tooltip='Calculate')"
      ]
     },
     "metadata": {},
     "output_type": "display_data"
    },
    {
     "data": {
      "application/vnd.jupyter.widget-view+json": {
       "model_id": "74904eb705b74ee281d1a4a37551b029",
       "version_major": 2,
       "version_minor": 0
      },
      "text/plain": [
       "Output()"
      ]
     },
     "metadata": {},
     "output_type": "display_data"
    }
   ],
   "source": [
    "outputltb = widgets.Output()\n",
    "\n",
    "def laps_to_boxbox(b):\n",
    "    with outputltb:\n",
    "        outputltb.clear_output()\n",
    "        mean_ltb = DFltb.groupby(['GrandPrix', 'Stop'])[['Lap']].mean()\n",
    "        mean_ltb = mean_ltb.round(1)\n",
    "        \n",
    "        nameGPltb=GPltb.value\n",
    "        circuitoltb = mean_ltb.loc[[nameGPltb]]\n",
    "        display(circuitoltb)\n",
    "        \n",
    "buttonltb = widgets.Button(\n",
    "    description='Calculate',\n",
    "    disabled=False,\n",
    "    button_style='', # 'success', 'info', 'warning', 'danger' or ''\n",
    "    tooltip='Calculate',\n",
    "    icon='check' # (FontAwesome names without the `fa-` prefix)\n",
    ")\n",
    "\n",
    "buttonltb.on_click(laps_to_boxbox)\n",
    "\n",
    "display(buttonltb)\n",
    "display(outputltb)"
   ]
  },
  {
   "cell_type": "markdown",
   "id": "e62d21e7-c13c-40e2-8e26-bb996bea3040",
   "metadata": {},
   "source": [
    "##"
   ]
  },
  {
   "cell_type": "markdown",
   "id": "ff0c6f48-c784-4741-b3bc-5c5e0ffbd98f",
   "metadata": {},
   "source": [
    "## Plot drivers time\n",
    "This code plot specific drivers lap times in specific GrandPrix to see what appen before a pit stop, using matplotlib library.\n",
    "Select the Year and the GP, then press the button and select the drivers.  \n",
    "You can select multiple drivers holding CTRL + left click on the drivers.  \n",
    "Press plot drivers."
   ]
  },
  {
   "cell_type": "code",
   "execution_count": 8,
   "id": "7aff913c-dc39-4b60-b3fc-c434c583d43a",
   "metadata": {
    "jupyter": {
     "source_hidden": true
    },
    "tags": []
   },
   "outputs": [
    {
     "data": {
      "application/vnd.jupyter.widget-view+json": {
       "model_id": "7688752a4cd54f229969a54d7e020588",
       "version_major": 2,
       "version_minor": 0
      },
      "text/plain": [
       "HBox(children=(Dropdown(description='Year:', options=(2011, 2012, 2013, 2014, 2015, 2016, 2017, 2018, 2019, 20…"
      ]
     },
     "metadata": {},
     "output_type": "display_data"
    }
   ],
   "source": [
    "GPt = widgets.Dropdown(\n",
    "    options=lista_GP['GP'], \n",
    "    description='GrandPrix:', \n",
    "    disabled=False\n",
    ")\n",
    "\n",
    "anni=[2011, 2012, 2013, 2014, 2015, 2016, 2017, 2018, 2019, 2020, 2021, 2022]\n",
    "\n",
    "Year = widgets.Dropdown(options= anni, description='Year:')\n",
    "\n",
    "# crea una HBox e aggiungi i dropdown come figli\n",
    "hbox = widgets.HBox([Year, GPt])\n",
    "\n",
    "# visualizza la HBox\n",
    "display(hbox)\n"
   ]
  },
  {
   "cell_type": "code",
   "execution_count": 9,
   "id": "a0a52df1-0ab8-4177-9bcc-34ae6b264f40",
   "metadata": {
    "jupyter": {
     "source_hidden": true
    },
    "tags": []
   },
   "outputs": [
    {
     "data": {
      "application/vnd.jupyter.widget-view+json": {
       "model_id": "a86763cc236b4f448a81944256417d2f",
       "version_major": 2,
       "version_minor": 0
      },
      "text/plain": [
       "Button(description='Drivers', style=ButtonStyle(), tooltip='Drivers')"
      ]
     },
     "metadata": {},
     "output_type": "display_data"
    },
    {
     "data": {
      "application/vnd.jupyter.widget-view+json": {
       "model_id": "3f9d28f4ac1d4217b0a5afd65f49a0f4",
       "version_major": 2,
       "version_minor": 0
      },
      "text/plain": [
       "Output()"
      ]
     },
     "metadata": {},
     "output_type": "display_data"
    }
   ],
   "source": [
    "tempicursor = mydb.cursor()\n",
    "\n",
    "outputdriv = widgets.Output()\n",
    "\n",
    "#media giro in cui si fanno i pit stop\n",
    "def datatime(b):\n",
    "    global multiselect\n",
    "    global Datatempi\n",
    "    with outputdriv:\n",
    "        outputdriv.clear_output()\n",
    "        tempicursor.execute(\n",
    "        'SELECT R.year, R.name, D.driverRef, L.lap, L.time, L.milliseconds FROM ((laptimes L JOIN races R ON L.raceId = R.raceId) JOIN circuits C ON R.circuitId = C.circuitId) JOIN drivers D ON D.driverId = L.driverId WHERE year BETWEEN 2011 AND 2022 and R.year=' + str(Year.value) + ' and R.name= \"' + GPt.value + '\"'\n",
    "        )\n",
    "\n",
    "        listatempi=tempicursor.fetchall()\n",
    "\n",
    "        Datatempi = pd.DataFrame(listatempi, columns=['Year', 'GrandPrix', 'Driver', 'Lap', 'Time', 'Milli'])\n",
    "        \n",
    "        #lista piloti\n",
    "        drivers=Datatempi['Driver'].unique()\n",
    "        drivers=sorted(drivers)\n",
    "        \n",
    "        multiselect = widgets.SelectMultiple(options=drivers, description = 'Drivers:', rows=len(drivers))\n",
    "        if drivers == []:\n",
    "            print('ATTENTION: In ' + str(Year.value) + ' the ' + GPt.value + ' was not disputed')\n",
    "        else:\n",
    "            display(multiselect)\n",
    "             \n",
    "buttondriv = widgets.Button(\n",
    "    description='Drivers',\n",
    "    disabled=False,\n",
    "    button_style='', # 'success', 'info', 'warning', 'danger' or ''\n",
    "    tooltip='Drivers')\n",
    "\n",
    "buttondriv.on_click(datatime)\n",
    "\n",
    "display(buttondriv)\n",
    "display(outputdriv)"
   ]
  },
  {
   "cell_type": "code",
   "execution_count": 10,
   "id": "b61b11a6-9b72-476c-b24b-7eedeec1e830",
   "metadata": {
    "jupyter": {
     "source_hidden": true
    },
    "tags": []
   },
   "outputs": [
    {
     "data": {
      "application/vnd.jupyter.widget-view+json": {
       "model_id": "393e0c8be8894105894673a13434b2e7",
       "version_major": 2,
       "version_minor": 0
      },
      "text/plain": [
       "Button(description='Plot drivers', style=ButtonStyle(), tooltip='Drivers')"
      ]
     },
     "metadata": {},
     "output_type": "display_data"
    },
    {
     "data": {
      "application/vnd.jupyter.widget-view+json": {
       "model_id": "ae1f761bf2ac4432a26020a06c0a6894",
       "version_major": 2,
       "version_minor": 0
      },
      "text/plain": [
       "Output()"
      ]
     },
     "metadata": {},
     "output_type": "display_data"
    }
   ],
   "source": [
    "outputplot = widgets.Output()\n",
    "\n",
    "def plot_drivers(b):\n",
    "    with outputplot:\n",
    "        outputplot.clear_output()\n",
    "        \n",
    "        Q3 = Datatempi['Milli'].quantile(0.75)\n",
    "        Q1 = Datatempi['Milli'].quantile(0.25)\n",
    "        IQR = Q3 - Q1\n",
    "        upper_limit = Q3 + 1.5*IQR\n",
    "\n",
    "        assey = range(((min(Datatempi['Milli'])//10000)*10000), max(Datatempi['Milli']), 200)\n",
    "\n",
    "        times = [pd.to_datetime(m, unit='ms').time() for m in assey]\n",
    "        y_labels = [t.strftime('%M:%S.%f')[:-3] for t in times]\n",
    "\n",
    "        plt.figure(figsize=(20, 10))\n",
    "\n",
    "        for pilota in multiselect.value:\n",
    "            # selezionare i dati solo per il pilota corrente\n",
    "            dati_pilota = Datatempi[Datatempi['Driver'] == pilota]\n",
    "            # plottare i dati del pilota corrente\n",
    "            plt.plot(dati_pilota['Lap'], dati_pilota['Milli'], label=pilota)\n",
    "\n",
    "    \n",
    "        giri_tick = range(0, max(Datatempi['Lap']), 2)\n",
    "        plt.xticks(giri_tick)\n",
    "        plt.yticks(assey, y_labels)\n",
    "\n",
    "        plt.ylim(min(Datatempi['Milli']), upper_limit)\n",
    "        plt.xlim(0, max(Datatempi['Lap']))\n",
    "\n",
    "        plt.xlabel('Lap')\n",
    "        plt.ylabel('Time (MM:SS.mmm)')\n",
    "\n",
    "        plt.grid(True)\n",
    "\n",
    "        # aggiungere una legenda\n",
    "        plt.legend()\n",
    "\n",
    "        plt.gca().set_facecolor('lightgrey')\n",
    "\n",
    "        # mostrare il grafico\n",
    "        plt.show()\n",
    "\n",
    "buttonplot = widgets.Button(\n",
    "    description='Plot drivers',\n",
    "    disabled=False,\n",
    "    button_style='', # 'success', 'info', 'warning', 'danger' or ''\n",
    "    tooltip='Drivers'\n",
    ")\n",
    "\n",
    "buttonplot.on_click(plot_drivers)\n",
    "\n",
    "display(buttonplot)\n",
    "display(outputplot)"
   ]
  }
 ],
 "metadata": {
  "kernelspec": {
   "display_name": "Python 3 (ipykernel)",
   "language": "python",
   "name": "python3"
  },
  "language_info": {
   "codemirror_mode": {
    "name": "ipython",
    "version": 3
   },
   "file_extension": ".py",
   "mimetype": "text/x-python",
   "name": "python",
   "nbconvert_exporter": "python",
   "pygments_lexer": "ipython3",
   "version": "3.9.13"
  }
 },
 "nbformat": 4,
 "nbformat_minor": 5
}
